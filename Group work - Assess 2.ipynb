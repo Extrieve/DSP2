{
 "cells": [
  {
   "cell_type": "markdown",
   "metadata": {},
   "source": [
    "# Group work - Assessment 2"
   ]
  },
  {
   "cell_type": "markdown",
   "metadata": {},
   "source": [
    "In this assignment, we will focus on salary prediction. The data set for this assignment includes information on job descriptions and salaries. Use this data set to see if you can predict the salary of a job posting (i.e., the `Salary` column in the data set) based on the job description. This is important, because this model can make a salary recommendation as soon as a job description is entered into a system."
   ]
  },
  {
   "cell_type": "markdown",
   "metadata": {},
   "source": [
    "## Description of Variables\n",
    "\n",
    "The description of variables are provided in \"Jobs - Data Dictionary.docx\""
   ]
  },
  {
   "cell_type": "markdown",
   "metadata": {},
   "source": [
    "## Goal\n",
    "\n",
    "Use the **jobs_alldata.csv** data set and build models to predict **salary**.\n",
    "\n",
    "**Be careful: this is a REGRESSION task**"
   ]
  },
  {
   "cell_type": "markdown",
   "metadata": {},
   "source": [
    "## Submission:\n",
    "\n",
    "Please save and submit this Jupyter notebook file. The correctness of the code matters for your grade. **Readability and organization of your code is also important.** You may lose points for submitting unreadable/undecipherable code. Therefore, use markdown cells to create sections, and use comments where necessary.\n"
   ]
  },
  {
   "cell_type": "markdown",
   "metadata": {},
   "source": [
    "## Recommended roles for group members:\n",
    "\n",
    "**Section 1:** to be completed by both group members\n",
    "\n",
    "**Section 2:** first three models to be completed by the first group member and checked by the second; last two models to be completed by the second group members and checked by the first group member.\n",
    "\n",
    "**Discussion:** to be completed by both group members\n",
    "\n",
    "**Important notes:**\n",
    "- Both group members will get the same grade. Therefore, you should check the work of your group member. If they make a mistake, you will be responsible for that mistake too.\n",
    "- Both group members must put in their fair share of effort. Otherwise, those who don't contribute to the assignment will not receive any grade.\n"
   ]
  },
  {
   "cell_type": "markdown",
   "metadata": {},
   "source": [
    "# Section 1: (8 points in total)"
   ]
  },
  {
   "cell_type": "markdown",
   "metadata": {},
   "source": [
    "## Data Prep (6 points)"
   ]
  },
  {
   "cell_type": "code",
   "execution_count": 266,
   "metadata": {},
   "outputs": [],
   "source": [
    "import pandas as pd\n",
    "import numpy as np\n",
    "import os"
   ]
  },
  {
   "cell_type": "code",
   "execution_count": 267,
   "metadata": {},
   "outputs": [
    {
     "data": {
      "text/plain": [
       "['jobs_alldata.csv']"
      ]
     },
     "execution_count": 267,
     "metadata": {},
     "output_type": "execute_result"
    }
   ],
   "source": [
    "# get csv files from current directory\n",
    "csv_files = [f for f in os.listdir('.') if f.endswith('.csv')]\n",
    "csv_files"
   ]
  },
  {
   "cell_type": "code",
   "execution_count": 268,
   "metadata": {},
   "outputs": [
    {
     "data": {
      "text/html": [
       "<div>\n",
       "<style scoped>\n",
       "    .dataframe tbody tr th:only-of-type {\n",
       "        vertical-align: middle;\n",
       "    }\n",
       "\n",
       "    .dataframe tbody tr th {\n",
       "        vertical-align: top;\n",
       "    }\n",
       "\n",
       "    .dataframe thead th {\n",
       "        text-align: right;\n",
       "    }\n",
       "</style>\n",
       "<table border=\"1\" class=\"dataframe\">\n",
       "  <thead>\n",
       "    <tr style=\"text-align: right;\">\n",
       "      <th></th>\n",
       "      <th>Salary</th>\n",
       "      <th>Job Description</th>\n",
       "      <th>Location</th>\n",
       "      <th>Min_years_exp</th>\n",
       "      <th>Technical</th>\n",
       "      <th>Comm</th>\n",
       "      <th>Travel</th>\n",
       "    </tr>\n",
       "  </thead>\n",
       "  <tbody>\n",
       "    <tr>\n",
       "      <th>0</th>\n",
       "      <td>67206</td>\n",
       "      <td>Civil Service Title: Regional Director Mental ...</td>\n",
       "      <td>Remote</td>\n",
       "      <td>5</td>\n",
       "      <td>2</td>\n",
       "      <td>3</td>\n",
       "      <td>0</td>\n",
       "    </tr>\n",
       "    <tr>\n",
       "      <th>1</th>\n",
       "      <td>88313</td>\n",
       "      <td>The New York City Comptrollerâ€™s Office Burea...</td>\n",
       "      <td>Remote</td>\n",
       "      <td>5</td>\n",
       "      <td>2</td>\n",
       "      <td>4</td>\n",
       "      <td>10-15</td>\n",
       "    </tr>\n",
       "    <tr>\n",
       "      <th>2</th>\n",
       "      <td>81315</td>\n",
       "      <td>With minimal supervision from the Deputy Commi...</td>\n",
       "      <td>East campus</td>\n",
       "      <td>5</td>\n",
       "      <td>3</td>\n",
       "      <td>3</td>\n",
       "      <td>5-10</td>\n",
       "    </tr>\n",
       "    <tr>\n",
       "      <th>3</th>\n",
       "      <td>76426</td>\n",
       "      <td>OPEN TO CURRENT BUSINESS PROMOTION COORDINATOR...</td>\n",
       "      <td>East campus</td>\n",
       "      <td>1</td>\n",
       "      <td>1</td>\n",
       "      <td>3</td>\n",
       "      <td>0</td>\n",
       "    </tr>\n",
       "    <tr>\n",
       "      <th>4</th>\n",
       "      <td>55675</td>\n",
       "      <td>Only candidates who are permanent in the Princ...</td>\n",
       "      <td>Southeast campus</td>\n",
       "      <td>1</td>\n",
       "      <td>1</td>\n",
       "      <td>3</td>\n",
       "      <td>5-10</td>\n",
       "    </tr>\n",
       "  </tbody>\n",
       "</table>\n",
       "</div>"
      ],
      "text/plain": [
       "   Salary                                    Job Description  \\\n",
       "0   67206  Civil Service Title: Regional Director Mental ...   \n",
       "1   88313  The New York City Comptrollerâ€™s Office Burea...   \n",
       "2   81315  With minimal supervision from the Deputy Commi...   \n",
       "3   76426  OPEN TO CURRENT BUSINESS PROMOTION COORDINATOR...   \n",
       "4   55675  Only candidates who are permanent in the Princ...   \n",
       "\n",
       "           Location  Min_years_exp  Technical  Comm Travel  \n",
       "0            Remote              5          2     3      0  \n",
       "1            Remote              5          2     4  10-15  \n",
       "2       East campus              5          3     3   5-10  \n",
       "3       East campus              1          1     3      0  \n",
       "4  Southeast campus              1          1     3   5-10  "
      ]
     },
     "execution_count": 268,
     "metadata": {},
     "output_type": "execute_result"
    }
   ],
   "source": [
    "# read csv files\n",
    "df = pd.read_csv(csv_files[0])\n",
    "df.head()"
   ]
  },
  {
   "cell_type": "code",
   "execution_count": 269,
   "metadata": {},
   "outputs": [
    {
     "data": {
      "text/html": [
       "<div>\n",
       "<style scoped>\n",
       "    .dataframe tbody tr th:only-of-type {\n",
       "        vertical-align: middle;\n",
       "    }\n",
       "\n",
       "    .dataframe tbody tr th {\n",
       "        vertical-align: top;\n",
       "    }\n",
       "\n",
       "    .dataframe thead th {\n",
       "        text-align: right;\n",
       "    }\n",
       "</style>\n",
       "<table border=\"1\" class=\"dataframe\">\n",
       "  <thead>\n",
       "    <tr style=\"text-align: right;\">\n",
       "      <th></th>\n",
       "      <th>salary</th>\n",
       "      <th>job description</th>\n",
       "      <th>location</th>\n",
       "      <th>min_years_exp</th>\n",
       "      <th>technical</th>\n",
       "      <th>comm</th>\n",
       "      <th>travel</th>\n",
       "    </tr>\n",
       "  </thead>\n",
       "  <tbody>\n",
       "    <tr>\n",
       "      <th>0</th>\n",
       "      <td>67206</td>\n",
       "      <td>Civil Service Title: Regional Director Mental ...</td>\n",
       "      <td>Remote</td>\n",
       "      <td>5</td>\n",
       "      <td>2</td>\n",
       "      <td>3</td>\n",
       "      <td>0</td>\n",
       "    </tr>\n",
       "    <tr>\n",
       "      <th>1</th>\n",
       "      <td>88313</td>\n",
       "      <td>The New York City Comptrollerâ€™s Office Burea...</td>\n",
       "      <td>Remote</td>\n",
       "      <td>5</td>\n",
       "      <td>2</td>\n",
       "      <td>4</td>\n",
       "      <td>10-15</td>\n",
       "    </tr>\n",
       "    <tr>\n",
       "      <th>2</th>\n",
       "      <td>81315</td>\n",
       "      <td>With minimal supervision from the Deputy Commi...</td>\n",
       "      <td>East campus</td>\n",
       "      <td>5</td>\n",
       "      <td>3</td>\n",
       "      <td>3</td>\n",
       "      <td>5-10</td>\n",
       "    </tr>\n",
       "    <tr>\n",
       "      <th>3</th>\n",
       "      <td>76426</td>\n",
       "      <td>OPEN TO CURRENT BUSINESS PROMOTION COORDINATOR...</td>\n",
       "      <td>East campus</td>\n",
       "      <td>1</td>\n",
       "      <td>1</td>\n",
       "      <td>3</td>\n",
       "      <td>0</td>\n",
       "    </tr>\n",
       "    <tr>\n",
       "      <th>4</th>\n",
       "      <td>55675</td>\n",
       "      <td>Only candidates who are permanent in the Princ...</td>\n",
       "      <td>Southeast campus</td>\n",
       "      <td>1</td>\n",
       "      <td>1</td>\n",
       "      <td>3</td>\n",
       "      <td>5-10</td>\n",
       "    </tr>\n",
       "  </tbody>\n",
       "</table>\n",
       "</div>"
      ],
      "text/plain": [
       "   salary                                    job description  \\\n",
       "0   67206  Civil Service Title: Regional Director Mental ...   \n",
       "1   88313  The New York City Comptrollerâ€™s Office Burea...   \n",
       "2   81315  With minimal supervision from the Deputy Commi...   \n",
       "3   76426  OPEN TO CURRENT BUSINESS PROMOTION COORDINATOR...   \n",
       "4   55675  Only candidates who are permanent in the Princ...   \n",
       "\n",
       "           location  min_years_exp  technical  comm travel  \n",
       "0            Remote              5          2     3      0  \n",
       "1            Remote              5          2     4  10-15  \n",
       "2       East campus              5          3     3   5-10  \n",
       "3       East campus              1          1     3      0  \n",
       "4  Southeast campus              1          1     3   5-10  "
      ]
     },
     "execution_count": 269,
     "metadata": {},
     "output_type": "execute_result"
    }
   ],
   "source": [
    "# make column names lowercase\n",
    "df.columns = map(str.lower, df.columns)\n",
    "df.head()"
   ]
  },
  {
   "cell_type": "code",
   "execution_count": 270,
   "metadata": {},
   "outputs": [],
   "source": [
    "from sklearn.model_selection import train_test_split\n",
    "\n",
    "# define train and test sets from data\n",
    "X_train, X_test, y_train, y_test = train_test_split(\n",
    "    df.drop('salary', axis=1), df['salary'], test_size=0.2, random_state=0)\n"
   ]
  },
  {
   "cell_type": "code",
   "execution_count": 271,
   "metadata": {},
   "outputs": [
    {
     "name": "stdout",
     "output_type": "stream",
     "text": [
      "job description    0\n",
      "location           0\n",
      "min_years_exp      0\n",
      "technical          0\n",
      "comm               0\n",
      "travel             0\n",
      "dtype: int64\n"
     ]
    }
   ],
   "source": [
    "# check for null values\n",
    "print(X_train.isnull().sum())"
   ]
  },
  {
   "cell_type": "code",
   "execution_count": 272,
   "metadata": {},
   "outputs": [
    {
     "name": "stdout",
     "output_type": "stream",
     "text": [
      "job description    0\n",
      "location           0\n",
      "min_years_exp      0\n",
      "technical          0\n",
      "comm               0\n",
      "travel             0\n",
      "dtype: int64\n"
     ]
    }
   ],
   "source": [
    "print(X_test.isnull().sum())"
   ]
  },
  {
   "cell_type": "code",
   "execution_count": 273,
   "metadata": {},
   "outputs": [
    {
     "name": "stdout",
     "output_type": "stream",
     "text": [
      "job description    object\n",
      "location           object\n",
      "min_years_exp       int64\n",
      "technical           int64\n",
      "comm                int64\n",
      "travel             object\n",
      "dtype: object\n"
     ]
    }
   ],
   "source": [
    "# print data types\n",
    "print(X_train.dtypes)"
   ]
  },
  {
   "cell_type": "code",
   "execution_count": 274,
   "metadata": {},
   "outputs": [
    {
     "name": "stdout",
     "output_type": "stream",
     "text": [
      "['job description', 'location', 'travel']\n",
      "[]\n",
      "['min_years_exp', 'technical', 'comm']\n"
     ]
    },
    {
     "name": "stderr",
     "output_type": "stream",
     "text": [
      "C:\\Users\\nicol\\AppData\\Local\\Temp\\ipykernel_14256\\1071052424.py:5: DeprecationWarning: `np.object` is a deprecated alias for the builtin `object`. To silence this warning, use `object` by itself. Doing this will not modify any behavior and is safe. \n",
      "Deprecated in NumPy 1.20; for more details and guidance: https://numpy.org/devdocs/release/1.20.0-notes.html#deprecations\n",
      "  X_train_categorical = X_train.select_dtypes(include=[np.object])\n"
     ]
    }
   ],
   "source": [
    "# create a new variabel only containing numeric data\n",
    "X_train_numeric = X_train.select_dtypes(include=[np.number]).columns.to_list()\n",
    "\n",
    "# create a new variabel only containing categorical data\n",
    "X_train_categorical = X_train.select_dtypes(include=[np.object])\n",
    "X_train_cat = []\n",
    "X_train_binary = []\n",
    "# loop through the columns of the categorical data\n",
    "for col in X_train_categorical:\n",
    "    # check unique values per row\n",
    "    x = len(X_train[col].unique())\n",
    "    # check if there are more than 2 unique values\n",
    "    if x > 2:\n",
    "        X_train_cat.append(col)\n",
    "    else:\n",
    "        X_train_binary.append(col)\n",
    "\n",
    "print(X_train_cat)\n",
    "print(X_train_binary)\n",
    "print(X_train_numeric)\n"
   ]
  },
  {
   "cell_type": "code",
   "execution_count": 275,
   "metadata": {},
   "outputs": [
    {
     "data": {
      "text/plain": [
       "['min_years_exp', 'technical', 'comm']"
      ]
     },
     "execution_count": 275,
     "metadata": {},
     "output_type": "execute_result"
    }
   ],
   "source": [
    "X_train_numeric"
   ]
  },
  {
   "cell_type": "code",
   "execution_count": 276,
   "metadata": {},
   "outputs": [
    {
     "data": {
      "text/html": [
       "<div>\n",
       "<style scoped>\n",
       "    .dataframe tbody tr th:only-of-type {\n",
       "        vertical-align: middle;\n",
       "    }\n",
       "\n",
       "    .dataframe tbody tr th {\n",
       "        vertical-align: top;\n",
       "    }\n",
       "\n",
       "    .dataframe thead th {\n",
       "        text-align: right;\n",
       "    }\n",
       "</style>\n",
       "<table border=\"1\" class=\"dataframe\">\n",
       "  <thead>\n",
       "    <tr style=\"text-align: right;\">\n",
       "      <th></th>\n",
       "      <th>job description</th>\n",
       "      <th>location</th>\n",
       "      <th>min_years_exp</th>\n",
       "      <th>technical</th>\n",
       "      <th>comm</th>\n",
       "      <th>travel</th>\n",
       "    </tr>\n",
       "  </thead>\n",
       "  <tbody>\n",
       "    <tr>\n",
       "      <th>459</th>\n",
       "      <td>**THIS IS A TEMPORARY POSITION** In January 20...</td>\n",
       "      <td>Southeast campus</td>\n",
       "      <td>1</td>\n",
       "      <td>1</td>\n",
       "      <td>3</td>\n",
       "      <td>0</td>\n",
       "    </tr>\n",
       "    <tr>\n",
       "      <th>2006</th>\n",
       "      <td>DoITT provides for the sustained, efficient an...</td>\n",
       "      <td>HQ</td>\n",
       "      <td>5</td>\n",
       "      <td>5</td>\n",
       "      <td>1</td>\n",
       "      <td>0</td>\n",
       "    </tr>\n",
       "    <tr>\n",
       "      <th>951</th>\n",
       "      <td>Within HPDâ€™s Office of Legal Affairs, the Co...</td>\n",
       "      <td>Southeast campus</td>\n",
       "      <td>1</td>\n",
       "      <td>2</td>\n",
       "      <td>3</td>\n",
       "      <td>0</td>\n",
       "    </tr>\n",
       "    <tr>\n",
       "      <th>1598</th>\n",
       "      <td>Only candidates who are permanent in the Admin...</td>\n",
       "      <td>HQ</td>\n",
       "      <td>4</td>\n",
       "      <td>3</td>\n",
       "      <td>4</td>\n",
       "      <td>0</td>\n",
       "    </tr>\n",
       "    <tr>\n",
       "      <th>1458</th>\n",
       "      <td>Job Description   1. Oversee daily maintenance...</td>\n",
       "      <td>HQ</td>\n",
       "      <td>4</td>\n",
       "      <td>3</td>\n",
       "      <td>3</td>\n",
       "      <td>0</td>\n",
       "    </tr>\n",
       "  </tbody>\n",
       "</table>\n",
       "</div>"
      ],
      "text/plain": [
       "                                        job description          location  \\\n",
       "459   **THIS IS A TEMPORARY POSITION** In January 20...  Southeast campus   \n",
       "2006  DoITT provides for the sustained, efficient an...                HQ   \n",
       "951   Within HPDâ€™s Office of Legal Affairs, the Co...  Southeast campus   \n",
       "1598  Only candidates who are permanent in the Admin...                HQ   \n",
       "1458  Job Description   1. Oversee daily maintenance...                HQ   \n",
       "\n",
       "      min_years_exp  technical  comm travel  \n",
       "459               1          1     3      0  \n",
       "2006              5          5     1      0  \n",
       "951               1          2     3      0  \n",
       "1598              4          3     4      0  \n",
       "1458              4          3     3      0  "
      ]
     },
     "execution_count": 276,
     "metadata": {},
     "output_type": "execute_result"
    }
   ],
   "source": [
    "X_train.head()"
   ]
  },
  {
   "cell_type": "markdown",
   "metadata": {},
   "source": [
    "## Importing Necessary Decision Tree Libraries"
   ]
  },
  {
   "cell_type": "code",
   "execution_count": 277,
   "metadata": {},
   "outputs": [],
   "source": [
    "from sklearn.compose import ColumnTransformer\n",
    "from sklearn.pipeline import Pipeline\n",
    "from sklearn.impute import SimpleImputer\n",
    "from sklearn.preprocessing import StandardScaler\n",
    "from sklearn.preprocessing import OneHotEncoder\n",
    "from sklearn.preprocessing import FunctionTransformer"
   ]
  },
  {
   "cell_type": "markdown",
   "metadata": {},
   "source": [
    "### Feature Engineeering: Defining New Column based on the average from our numerical data (Min years of experience, Technical, Comm)"
   ]
  },
  {
   "cell_type": "code",
   "execution_count": 278,
   "metadata": {},
   "outputs": [],
   "source": [
    "# define new column 'Combined_Aptitude' by averaging 'Min_years_exp' , 'Technical' and 'Comm'\n",
    "def combine_aptitude(df):\n",
    "    # copy df\n",
    "    df_copy = df.copy()\n",
    "    # create new column 'Combined_Aptitude'\n",
    "    df_copy['combined_Aptitude'] = ((\n",
    "        df_copy['min_years_exp'] + df_copy['technical'] + df_copy['comm']) / 3).fillna(0)\n",
    "\n",
    "    df_copy['combined_Aptitude'].replace(np.inf, 1, inplace=True)\n",
    "    # return new column\n",
    "    return df_copy[['combined_Aptitude']]\n",
    "\n",
    "# assign\n",
    "feat_eng_cols = ['min_years_exp', 'technical', 'comm']\n",
    "# X_train['Combined_Aptitude'] = combine_aptitude(X_train)\n",
    "# X_test['Combined_Aptitude'] = combine_aptitude(X_test)"
   ]
  },
  {
   "cell_type": "code",
   "execution_count": 279,
   "metadata": {},
   "outputs": [],
   "source": [
    "# X_train['combined_Aptitude'] = combine_aptitude(X_train)"
   ]
  },
  {
   "cell_type": "code",
   "execution_count": 280,
   "metadata": {},
   "outputs": [
    {
     "data": {
      "text/html": [
       "<div>\n",
       "<style scoped>\n",
       "    .dataframe tbody tr th:only-of-type {\n",
       "        vertical-align: middle;\n",
       "    }\n",
       "\n",
       "    .dataframe tbody tr th {\n",
       "        vertical-align: top;\n",
       "    }\n",
       "\n",
       "    .dataframe thead th {\n",
       "        text-align: right;\n",
       "    }\n",
       "</style>\n",
       "<table border=\"1\" class=\"dataframe\">\n",
       "  <thead>\n",
       "    <tr style=\"text-align: right;\">\n",
       "      <th></th>\n",
       "      <th>job description</th>\n",
       "      <th>location</th>\n",
       "      <th>min_years_exp</th>\n",
       "      <th>technical</th>\n",
       "      <th>comm</th>\n",
       "      <th>travel</th>\n",
       "    </tr>\n",
       "  </thead>\n",
       "  <tbody>\n",
       "    <tr>\n",
       "      <th>459</th>\n",
       "      <td>**THIS IS A TEMPORARY POSITION** In January 20...</td>\n",
       "      <td>Southeast campus</td>\n",
       "      <td>1</td>\n",
       "      <td>1</td>\n",
       "      <td>3</td>\n",
       "      <td>0</td>\n",
       "    </tr>\n",
       "    <tr>\n",
       "      <th>2006</th>\n",
       "      <td>DoITT provides for the sustained, efficient an...</td>\n",
       "      <td>HQ</td>\n",
       "      <td>5</td>\n",
       "      <td>5</td>\n",
       "      <td>1</td>\n",
       "      <td>0</td>\n",
       "    </tr>\n",
       "    <tr>\n",
       "      <th>951</th>\n",
       "      <td>Within HPDâ€™s Office of Legal Affairs, the Co...</td>\n",
       "      <td>Southeast campus</td>\n",
       "      <td>1</td>\n",
       "      <td>2</td>\n",
       "      <td>3</td>\n",
       "      <td>0</td>\n",
       "    </tr>\n",
       "    <tr>\n",
       "      <th>1598</th>\n",
       "      <td>Only candidates who are permanent in the Admin...</td>\n",
       "      <td>HQ</td>\n",
       "      <td>4</td>\n",
       "      <td>3</td>\n",
       "      <td>4</td>\n",
       "      <td>0</td>\n",
       "    </tr>\n",
       "    <tr>\n",
       "      <th>1458</th>\n",
       "      <td>Job Description   1. Oversee daily maintenance...</td>\n",
       "      <td>HQ</td>\n",
       "      <td>4</td>\n",
       "      <td>3</td>\n",
       "      <td>3</td>\n",
       "      <td>0</td>\n",
       "    </tr>\n",
       "  </tbody>\n",
       "</table>\n",
       "</div>"
      ],
      "text/plain": [
       "                                        job description          location  \\\n",
       "459   **THIS IS A TEMPORARY POSITION** In January 20...  Southeast campus   \n",
       "2006  DoITT provides for the sustained, efficient an...                HQ   \n",
       "951   Within HPDâ€™s Office of Legal Affairs, the Co...  Southeast campus   \n",
       "1598  Only candidates who are permanent in the Admin...                HQ   \n",
       "1458  Job Description   1. Oversee daily maintenance...                HQ   \n",
       "\n",
       "      min_years_exp  technical  comm travel  \n",
       "459               1          1     3      0  \n",
       "2006              5          5     1      0  \n",
       "951               1          2     3      0  \n",
       "1598              4          3     4      0  \n",
       "1458              4          3     3      0  "
      ]
     },
     "execution_count": 280,
     "metadata": {},
     "output_type": "execute_result"
    }
   ],
   "source": [
    "X_train.head()"
   ]
  },
  {
   "cell_type": "code",
   "execution_count": null,
   "metadata": {},
   "outputs": [],
   "source": []
  },
  {
   "cell_type": "markdown",
   "metadata": {},
   "source": [
    "## Feature Engineering (1 points)\n",
    "\n",
    "Create one NEW feature from existing data. You either transform a single variable, or create a new variable from existing ones. \n",
    "\n",
    "Grading: \n",
    "- 0.5 points for creating the new feature correctly\n",
    "- 0.5 points for the justification of the new feature (i.e., why did you create this new feature)"
   ]
  },
  {
   "cell_type": "code",
   "execution_count": 281,
   "metadata": {},
   "outputs": [
    {
     "data": {
      "text/plain": [
       "['min_years_exp', 'technical', 'comm']"
      ]
     },
     "execution_count": 281,
     "metadata": {},
     "output_type": "execute_result"
    }
   ],
   "source": [
    "feat_eng_cols"
   ]
  },
  {
   "cell_type": "markdown",
   "metadata": {},
   "source": [
    "### Why this feature?\n",
    "We created this feature to aggregate all the numerical values and averaging them to have a better idea of the overall strengths of a candidate"
   ]
  },
  {
   "cell_type": "markdown",
   "metadata": {},
   "source": [
    "## Find the Baseline (1 point)"
   ]
  },
  {
   "cell_type": "code",
   "execution_count": 282,
   "metadata": {},
   "outputs": [],
   "source": [
    "from sklearn.metrics import mean_squared_error\n",
    "# find the mean squared error of the model\n",
    "def rmse(y_true, y_pred):\n",
    "    return np.sqrt(mean_squared_error(y_true, y_pred))\n"
   ]
  },
  {
   "cell_type": "code",
   "execution_count": 283,
   "metadata": {},
   "outputs": [
    {
     "name": "stdout",
     "output_type": "stream",
     "text": [
      "['min_years_exp', 'technical', 'comm']\n",
      "['job description', 'location', 'travel']\n",
      "[]\n",
      "['min_years_exp', 'technical', 'comm']\n"
     ]
    }
   ],
   "source": [
    "print(X_train_numeric)\n",
    "print(X_train_cat)\n",
    "print(X_train_binary)\n",
    "print(feat_eng_cols)"
   ]
  },
  {
   "cell_type": "code",
   "execution_count": 284,
   "metadata": {},
   "outputs": [],
   "source": [
    "# Initialize the Pipeline\n",
    "num_pipeline = Pipeline([\n",
    "    ('imputer', SimpleImputer(strategy='median')),\n",
    "    ('scaler', StandardScaler()),\n",
    "])\n",
    "\n",
    "categorial_pipeline = Pipeline([\n",
    "    ('imputer', SimpleImputer(strategy='constant', fill_value='unknown')),\n",
    "    ('onehot', OneHotEncoder(handle_unknown='ignore'))\n",
    "])\n",
    "\n",
    "# bin_pipeline = Pipeline([\n",
    "#     ('imputer', SimpleImputer(strategy='most_frequent'))\n",
    "# ])\n",
    "\n",
    "my_new_col = Pipeline(steps=[('my_new_col', FunctionTransformer(combine_aptitude)),\n",
    "                             ('scaler', StandardScaler())])\n"
   ]
  },
  {
   "cell_type": "code",
   "execution_count": 285,
   "metadata": {},
   "outputs": [],
   "source": [
    "preprocessor = ColumnTransformer(\n",
    "    transformers=[\n",
    "        ('num', num_pipeline, X_train_numeric),\n",
    "        ('cat', categorial_pipeline, X_train_cat),\n",
    "        ('my_new_col', my_new_col, feat_eng_cols)\n",
    "    ], remainder='passthrough')"
   ]
  },
  {
   "cell_type": "code",
   "execution_count": 286,
   "metadata": {},
   "outputs": [],
   "source": [
    "# fit and transform the data\n",
    "X_train_transformed = preprocessor.fit_transform(X_train)"
   ]
  },
  {
   "cell_type": "code",
   "execution_count": 287,
   "metadata": {},
   "outputs": [
    {
     "data": {
      "text/plain": [
       "<1930x1309 sparse matrix of type '<class 'numpy.float64'>'\n",
       "\twith 13510 stored elements in Compressed Sparse Row format>"
      ]
     },
     "execution_count": 287,
     "metadata": {},
     "output_type": "execute_result"
    }
   ],
   "source": [
    "X_train_transformed"
   ]
  },
  {
   "cell_type": "code",
   "execution_count": 288,
   "metadata": {},
   "outputs": [
    {
     "data": {
      "text/plain": [
       "(1930, 1309)"
      ]
     },
     "execution_count": 288,
     "metadata": {},
     "output_type": "execute_result"
    }
   ],
   "source": [
    "X_train_transformed.shape"
   ]
  },
  {
   "cell_type": "markdown",
   "metadata": {},
   "source": [
    "## Baseline Calculations (from RMSE definition way above)"
   ]
  },
  {
   "cell_type": "code",
   "execution_count": 289,
   "metadata": {},
   "outputs": [
    {
     "data": {
      "text/plain": [
       "77804.90984455959"
      ]
     },
     "execution_count": 289,
     "metadata": {},
     "output_type": "execute_result"
    }
   ],
   "source": [
    "# find the mean value of y_train\n",
    "y_train_mean = y_train.mean()\n",
    "y_train_mean"
   ]
  },
  {
   "cell_type": "code",
   "execution_count": 290,
   "metadata": {},
   "outputs": [
    {
     "data": {
      "text/plain": [
       "array([77804.90984456, 77804.90984456, 77804.90984456, 77804.90984456,\n",
       "       77804.90984456, 77804.90984456, 77804.90984456, 77804.90984456,\n",
       "       77804.90984456, 77804.90984456, 77804.90984456, 77804.90984456,\n",
       "       77804.90984456, 77804.90984456, 77804.90984456, 77804.90984456,\n",
       "       77804.90984456, 77804.90984456, 77804.90984456, 77804.90984456,\n",
       "       77804.90984456, 77804.90984456, 77804.90984456, 77804.90984456,\n",
       "       77804.90984456, 77804.90984456, 77804.90984456, 77804.90984456,\n",
       "       77804.90984456, 77804.90984456, 77804.90984456, 77804.90984456,\n",
       "       77804.90984456, 77804.90984456, 77804.90984456, 77804.90984456,\n",
       "       77804.90984456, 77804.90984456, 77804.90984456, 77804.90984456,\n",
       "       77804.90984456, 77804.90984456, 77804.90984456, 77804.90984456,\n",
       "       77804.90984456, 77804.90984456, 77804.90984456, 77804.90984456,\n",
       "       77804.90984456, 77804.90984456, 77804.90984456, 77804.90984456,\n",
       "       77804.90984456, 77804.90984456, 77804.90984456, 77804.90984456,\n",
       "       77804.90984456, 77804.90984456, 77804.90984456, 77804.90984456,\n",
       "       77804.90984456, 77804.90984456, 77804.90984456, 77804.90984456,\n",
       "       77804.90984456, 77804.90984456, 77804.90984456, 77804.90984456,\n",
       "       77804.90984456, 77804.90984456, 77804.90984456, 77804.90984456,\n",
       "       77804.90984456, 77804.90984456, 77804.90984456, 77804.90984456,\n",
       "       77804.90984456, 77804.90984456, 77804.90984456, 77804.90984456,\n",
       "       77804.90984456, 77804.90984456, 77804.90984456, 77804.90984456,\n",
       "       77804.90984456, 77804.90984456, 77804.90984456, 77804.90984456,\n",
       "       77804.90984456, 77804.90984456, 77804.90984456, 77804.90984456,\n",
       "       77804.90984456, 77804.90984456, 77804.90984456, 77804.90984456,\n",
       "       77804.90984456, 77804.90984456, 77804.90984456, 77804.90984456,\n",
       "       77804.90984456, 77804.90984456, 77804.90984456, 77804.90984456,\n",
       "       77804.90984456, 77804.90984456, 77804.90984456, 77804.90984456,\n",
       "       77804.90984456, 77804.90984456, 77804.90984456, 77804.90984456,\n",
       "       77804.90984456, 77804.90984456, 77804.90984456, 77804.90984456,\n",
       "       77804.90984456, 77804.90984456, 77804.90984456, 77804.90984456,\n",
       "       77804.90984456, 77804.90984456, 77804.90984456, 77804.90984456,\n",
       "       77804.90984456, 77804.90984456, 77804.90984456, 77804.90984456,\n",
       "       77804.90984456, 77804.90984456, 77804.90984456, 77804.90984456,\n",
       "       77804.90984456, 77804.90984456, 77804.90984456, 77804.90984456,\n",
       "       77804.90984456, 77804.90984456, 77804.90984456, 77804.90984456,\n",
       "       77804.90984456, 77804.90984456, 77804.90984456, 77804.90984456,\n",
       "       77804.90984456, 77804.90984456, 77804.90984456, 77804.90984456,\n",
       "       77804.90984456, 77804.90984456, 77804.90984456, 77804.90984456,\n",
       "       77804.90984456, 77804.90984456, 77804.90984456, 77804.90984456,\n",
       "       77804.90984456, 77804.90984456, 77804.90984456, 77804.90984456,\n",
       "       77804.90984456, 77804.90984456, 77804.90984456, 77804.90984456,\n",
       "       77804.90984456, 77804.90984456, 77804.90984456, 77804.90984456,\n",
       "       77804.90984456, 77804.90984456, 77804.90984456, 77804.90984456,\n",
       "       77804.90984456, 77804.90984456, 77804.90984456, 77804.90984456,\n",
       "       77804.90984456, 77804.90984456, 77804.90984456, 77804.90984456,\n",
       "       77804.90984456, 77804.90984456, 77804.90984456, 77804.90984456,\n",
       "       77804.90984456, 77804.90984456, 77804.90984456, 77804.90984456,\n",
       "       77804.90984456, 77804.90984456, 77804.90984456, 77804.90984456,\n",
       "       77804.90984456, 77804.90984456, 77804.90984456, 77804.90984456,\n",
       "       77804.90984456, 77804.90984456, 77804.90984456, 77804.90984456,\n",
       "       77804.90984456, 77804.90984456, 77804.90984456, 77804.90984456,\n",
       "       77804.90984456, 77804.90984456, 77804.90984456, 77804.90984456,\n",
       "       77804.90984456, 77804.90984456, 77804.90984456, 77804.90984456,\n",
       "       77804.90984456, 77804.90984456, 77804.90984456, 77804.90984456,\n",
       "       77804.90984456, 77804.90984456, 77804.90984456, 77804.90984456,\n",
       "       77804.90984456, 77804.90984456, 77804.90984456, 77804.90984456,\n",
       "       77804.90984456, 77804.90984456, 77804.90984456, 77804.90984456,\n",
       "       77804.90984456, 77804.90984456, 77804.90984456, 77804.90984456,\n",
       "       77804.90984456, 77804.90984456, 77804.90984456, 77804.90984456,\n",
       "       77804.90984456, 77804.90984456, 77804.90984456, 77804.90984456,\n",
       "       77804.90984456, 77804.90984456, 77804.90984456, 77804.90984456,\n",
       "       77804.90984456, 77804.90984456, 77804.90984456, 77804.90984456,\n",
       "       77804.90984456, 77804.90984456, 77804.90984456, 77804.90984456,\n",
       "       77804.90984456, 77804.90984456, 77804.90984456, 77804.90984456,\n",
       "       77804.90984456, 77804.90984456, 77804.90984456, 77804.90984456,\n",
       "       77804.90984456, 77804.90984456, 77804.90984456, 77804.90984456,\n",
       "       77804.90984456, 77804.90984456, 77804.90984456, 77804.90984456,\n",
       "       77804.90984456, 77804.90984456, 77804.90984456, 77804.90984456,\n",
       "       77804.90984456, 77804.90984456, 77804.90984456, 77804.90984456,\n",
       "       77804.90984456, 77804.90984456, 77804.90984456, 77804.90984456,\n",
       "       77804.90984456, 77804.90984456, 77804.90984456, 77804.90984456,\n",
       "       77804.90984456, 77804.90984456, 77804.90984456, 77804.90984456,\n",
       "       77804.90984456, 77804.90984456, 77804.90984456, 77804.90984456,\n",
       "       77804.90984456, 77804.90984456, 77804.90984456, 77804.90984456,\n",
       "       77804.90984456, 77804.90984456, 77804.90984456, 77804.90984456,\n",
       "       77804.90984456, 77804.90984456, 77804.90984456, 77804.90984456,\n",
       "       77804.90984456, 77804.90984456, 77804.90984456, 77804.90984456,\n",
       "       77804.90984456, 77804.90984456, 77804.90984456, 77804.90984456,\n",
       "       77804.90984456, 77804.90984456, 77804.90984456, 77804.90984456,\n",
       "       77804.90984456, 77804.90984456, 77804.90984456, 77804.90984456,\n",
       "       77804.90984456, 77804.90984456, 77804.90984456, 77804.90984456,\n",
       "       77804.90984456, 77804.90984456, 77804.90984456, 77804.90984456,\n",
       "       77804.90984456, 77804.90984456, 77804.90984456, 77804.90984456,\n",
       "       77804.90984456, 77804.90984456, 77804.90984456, 77804.90984456,\n",
       "       77804.90984456, 77804.90984456, 77804.90984456, 77804.90984456,\n",
       "       77804.90984456, 77804.90984456, 77804.90984456, 77804.90984456,\n",
       "       77804.90984456, 77804.90984456, 77804.90984456, 77804.90984456,\n",
       "       77804.90984456, 77804.90984456, 77804.90984456, 77804.90984456,\n",
       "       77804.90984456, 77804.90984456, 77804.90984456, 77804.90984456,\n",
       "       77804.90984456, 77804.90984456, 77804.90984456, 77804.90984456,\n",
       "       77804.90984456, 77804.90984456, 77804.90984456, 77804.90984456,\n",
       "       77804.90984456, 77804.90984456, 77804.90984456, 77804.90984456,\n",
       "       77804.90984456, 77804.90984456, 77804.90984456, 77804.90984456,\n",
       "       77804.90984456, 77804.90984456, 77804.90984456, 77804.90984456,\n",
       "       77804.90984456, 77804.90984456, 77804.90984456, 77804.90984456,\n",
       "       77804.90984456, 77804.90984456, 77804.90984456, 77804.90984456,\n",
       "       77804.90984456, 77804.90984456, 77804.90984456, 77804.90984456,\n",
       "       77804.90984456, 77804.90984456, 77804.90984456, 77804.90984456,\n",
       "       77804.90984456, 77804.90984456, 77804.90984456, 77804.90984456,\n",
       "       77804.90984456, 77804.90984456, 77804.90984456, 77804.90984456,\n",
       "       77804.90984456, 77804.90984456, 77804.90984456, 77804.90984456,\n",
       "       77804.90984456, 77804.90984456, 77804.90984456, 77804.90984456,\n",
       "       77804.90984456, 77804.90984456, 77804.90984456, 77804.90984456,\n",
       "       77804.90984456, 77804.90984456, 77804.90984456, 77804.90984456,\n",
       "       77804.90984456, 77804.90984456, 77804.90984456, 77804.90984456,\n",
       "       77804.90984456, 77804.90984456, 77804.90984456, 77804.90984456,\n",
       "       77804.90984456, 77804.90984456, 77804.90984456, 77804.90984456,\n",
       "       77804.90984456, 77804.90984456, 77804.90984456, 77804.90984456,\n",
       "       77804.90984456, 77804.90984456, 77804.90984456, 77804.90984456,\n",
       "       77804.90984456, 77804.90984456, 77804.90984456, 77804.90984456,\n",
       "       77804.90984456, 77804.90984456, 77804.90984456, 77804.90984456,\n",
       "       77804.90984456, 77804.90984456, 77804.90984456, 77804.90984456,\n",
       "       77804.90984456, 77804.90984456, 77804.90984456, 77804.90984456,\n",
       "       77804.90984456, 77804.90984456, 77804.90984456, 77804.90984456,\n",
       "       77804.90984456, 77804.90984456, 77804.90984456, 77804.90984456,\n",
       "       77804.90984456, 77804.90984456, 77804.90984456, 77804.90984456,\n",
       "       77804.90984456, 77804.90984456, 77804.90984456, 77804.90984456,\n",
       "       77804.90984456, 77804.90984456, 77804.90984456, 77804.90984456,\n",
       "       77804.90984456, 77804.90984456, 77804.90984456, 77804.90984456,\n",
       "       77804.90984456, 77804.90984456, 77804.90984456, 77804.90984456,\n",
       "       77804.90984456, 77804.90984456, 77804.90984456])"
      ]
     },
     "execution_count": 290,
     "metadata": {},
     "output_type": "execute_result"
    }
   ],
   "source": [
    "# prdict the salary based of the mean value of y_train\n",
    "y_train_mean_pred = np.repeat(y_train_mean, len(y_test))\n",
    "y_train_mean_pred"
   ]
  },
  {
   "cell_type": "code",
   "execution_count": 297,
   "metadata": {},
   "outputs": [
    {
     "data": {
      "text/plain": [
       "29309.514702510158"
      ]
     },
     "execution_count": 297,
     "metadata": {},
     "output_type": "execute_result"
    }
   ],
   "source": [
    "# use rmse function to find the mean squared error\n",
    "baseline_rmse = rmse(y_test, y_train_mean_pred)\n",
    "baseline_rmse"
   ]
  },
  {
   "cell_type": "code",
   "execution_count": 300,
   "metadata": {},
   "outputs": [
    {
     "data": {
      "text/plain": [
       "459      64498\n",
       "2006    108566\n",
       "951      76013\n",
       "1598    147023\n",
       "1458     66363\n",
       "Name: salary, dtype: int64"
      ]
     },
     "execution_count": 300,
     "metadata": {},
     "output_type": "execute_result"
    }
   ],
   "source": [
    "y_train.head()"
   ]
  },
  {
   "cell_type": "markdown",
   "metadata": {},
   "source": [
    "# Section 2: (7 points in total)\n",
    "\n",
    "Build the following models:\n"
   ]
  },
  {
   "cell_type": "markdown",
   "metadata": {},
   "source": [
    "## Decision Tree: (1 point)"
   ]
  },
  {
   "cell_type": "code",
   "execution_count": 301,
   "metadata": {},
   "outputs": [],
   "source": [
    "from sklearn.tree import DecisionTreeRegressor"
   ]
  },
  {
   "cell_type": "code",
   "execution_count": 319,
   "metadata": {},
   "outputs": [
    {
     "data": {
      "text/plain": [
       "DecisionTreeRegressor(min_samples_leaf=100, random_state=0)"
      ]
     },
     "execution_count": 319,
     "metadata": {},
     "output_type": "execute_result"
    }
   ],
   "source": [
    "tree_reg = DecisionTreeRegressor(random_state=0, min_samples_leaf=100)\n",
    "tree_reg.fit(X_train_transformed, y_train)"
   ]
  },
  {
   "cell_type": "code",
   "execution_count": 320,
   "metadata": {},
   "outputs": [
    {
     "data": {
      "text/plain": [
       "'Train RMSE: 28866.27'"
      ]
     },
     "execution_count": 320,
     "metadata": {},
     "output_type": "execute_result"
    }
   ],
   "source": [
    "# Train RMSE\n",
    "train_pred = tree_reg.predict(X_train_transformed)\n",
    "train_rmse = rmse(y_train, train_pred)\n",
    "f'Train RMSE: {train_rmse:.2f}'"
   ]
  },
  {
   "cell_type": "code",
   "execution_count": 321,
   "metadata": {},
   "outputs": [
    {
     "data": {
      "text/plain": [
       "'Test RMSE: 29617.47'"
      ]
     },
     "execution_count": 321,
     "metadata": {},
     "output_type": "execute_result"
    }
   ],
   "source": [
    "# Test RMSE\n",
    "test_pred = tree_reg.predict(preprocessor.transform(X_test))\n",
    "test_rmse = rmse(y_test, test_pred)\n",
    "f'Test RMSE: {test_rmse:.2f}'"
   ]
  },
  {
   "cell_type": "code",
   "execution_count": null,
   "metadata": {},
   "outputs": [],
   "source": []
  },
  {
   "cell_type": "markdown",
   "metadata": {},
   "source": [
    "## Voting regressor (2 points):\n",
    "\n",
    "The voting regressor should have at least 3 individual models"
   ]
  },
  {
   "cell_type": "code",
   "execution_count": null,
   "metadata": {},
   "outputs": [],
   "source": []
  },
  {
   "cell_type": "code",
   "execution_count": null,
   "metadata": {},
   "outputs": [],
   "source": []
  },
  {
   "cell_type": "markdown",
   "metadata": {},
   "source": [
    "## A Boosting model: (1 point)\n",
    "\n",
    "Build either an Adaboost or a GradientBoost model"
   ]
  },
  {
   "cell_type": "code",
   "execution_count": null,
   "metadata": {},
   "outputs": [],
   "source": []
  },
  {
   "cell_type": "code",
   "execution_count": null,
   "metadata": {},
   "outputs": [],
   "source": []
  },
  {
   "cell_type": "markdown",
   "metadata": {},
   "source": [
    "## Neural network: (1 point)"
   ]
  },
  {
   "cell_type": "code",
   "execution_count": null,
   "metadata": {},
   "outputs": [],
   "source": []
  },
  {
   "cell_type": "code",
   "execution_count": null,
   "metadata": {},
   "outputs": [],
   "source": []
  },
  {
   "cell_type": "markdown",
   "metadata": {},
   "source": [
    "## Grid search (2 points)\n",
    "\n",
    "Perform either a full or randomized grid search on any model you want. There has to be at least two parameters for the search. "
   ]
  },
  {
   "cell_type": "code",
   "execution_count": 323,
   "metadata": {},
   "outputs": [],
   "source": [
    "from sklearn.model_selection import RandomizedSearchCV\n"
   ]
  },
  {
   "cell_type": "code",
   "execution_count": 330,
   "metadata": {},
   "outputs": [],
   "source": [
    "param_grid = {\n",
    "    'min_samples_leaf': np.arange(100, 5000, 100),\n",
    "    'max_depth': np.arange(2, 50, 2),\n",
    "    'max_features': ['auto', 'sqrt', 'log2']\n",
    "}\n",
    "\n",
    "tree_reg = DecisionTreeRegressor(random_state=0)"
   ]
  },
  {
   "cell_type": "code",
   "execution_count": 331,
   "metadata": {},
   "outputs": [
    {
     "name": "stdout",
     "output_type": "stream",
     "text": [
      "Fitting 5 folds for each of 10 candidates, totalling 50 fits\n"
     ]
    },
    {
     "data": {
      "text/plain": [
       "RandomizedSearchCV(cv=5, estimator=DecisionTreeRegressor(random_state=0),\n",
       "                   param_distributions={'max_depth': array([ 2,  4,  6,  8, 10, 12, 14, 16, 18, 20, 22, 24, 26, 28, 30, 32, 34,\n",
       "       36, 38, 40, 42, 44, 46, 48]),\n",
       "                                        'max_features': ['auto', 'sqrt',\n",
       "                                                         'log2'],\n",
       "                                        'min_samples_leaf': array([ 100,  200,  300,  400,  500,  600,  700,  800,  900, 1000, 1100,\n",
       "       1200, 1300, 1400, 1500, 1600, 1700, 1800, 1900, 2000, 2100, 2200,\n",
       "       2300, 2400, 2500, 2600, 2700, 2800, 2900, 3000, 3100, 3200, 3300,\n",
       "       3400, 3500, 3600, 3700, 3800, 3900, 4000, 4100, 4200, 4300, 4400,\n",
       "       4500, 4600, 4700, 4800, 4900])},\n",
       "                   return_train_score=True, scoring='neg_mean_squared_error',\n",
       "                   verbose=1)"
      ]
     },
     "execution_count": 331,
     "metadata": {},
     "output_type": "execute_result"
    }
   ],
   "source": [
    "grid_search = RandomizedSearchCV(tree_reg, param_grid, cv=5, scoring='neg_mean_squared_error', verbose=1, return_train_score=True)\n",
    "\n",
    "grid_search.fit(X_train_transformed, y_train)"
   ]
  },
  {
   "cell_type": "code",
   "execution_count": 332,
   "metadata": {},
   "outputs": [
    {
     "name": "stdout",
     "output_type": "stream",
     "text": [
      "29198.187476899 {'min_samples_leaf': 3200, 'max_features': 'log2', 'max_depth': 6}\n",
      "29198.187476899 {'min_samples_leaf': 2900, 'max_features': 'log2', 'max_depth': 40}\n",
      "29198.187476899 {'min_samples_leaf': 3200, 'max_features': 'auto', 'max_depth': 32}\n",
      "29198.187476899 {'min_samples_leaf': 4200, 'max_features': 'log2', 'max_depth': 40}\n",
      "29194.227639260655 {'min_samples_leaf': 300, 'max_features': 'log2', 'max_depth': 4}\n",
      "29198.187476899 {'min_samples_leaf': 1700, 'max_features': 'auto', 'max_depth': 28}\n",
      "29198.187476899 {'min_samples_leaf': 3300, 'max_features': 'auto', 'max_depth': 34}\n",
      "29198.187476899 {'min_samples_leaf': 1300, 'max_features': 'log2', 'max_depth': 30}\n",
      "29198.187476899 {'min_samples_leaf': 1100, 'max_features': 'log2', 'max_depth': 30}\n",
      "29198.187476899 {'min_samples_leaf': 2900, 'max_features': 'sqrt', 'max_depth': 6}\n"
     ]
    }
   ],
   "source": [
    "cvres = grid_search.cv_results_\n",
    "\n",
    "for mean_score, params in zip(cvres[\"mean_test_score\"], cvres[\"params\"]):\n",
    "    print(np.sqrt(-mean_score), params)"
   ]
  },
  {
   "cell_type": "code",
   "execution_count": 333,
   "metadata": {},
   "outputs": [
    {
     "data": {
      "text/plain": [
       "{'min_samples_leaf': 300, 'max_features': 'log2', 'max_depth': 4}"
      ]
     },
     "execution_count": 333,
     "metadata": {},
     "output_type": "execute_result"
    }
   ],
   "source": [
    "grid_search.best_params_"
   ]
  },
  {
   "cell_type": "code",
   "execution_count": 334,
   "metadata": {},
   "outputs": [
    {
     "data": {
      "text/plain": [
       "DecisionTreeRegressor(max_depth=4, max_features='log2', min_samples_leaf=300,\n",
       "                      random_state=0)"
      ]
     },
     "execution_count": 334,
     "metadata": {},
     "output_type": "execute_result"
    }
   ],
   "source": [
    "grid_search.best_estimator_"
   ]
  },
  {
   "cell_type": "code",
   "execution_count": 335,
   "metadata": {},
   "outputs": [
    {
     "data": {
      "text/plain": [
       "'Train RMSE: 29125.54'"
      ]
     },
     "execution_count": 335,
     "metadata": {},
     "output_type": "execute_result"
    }
   ],
   "source": [
    "# Train RMSE\n",
    "train_pred = grid_search.best_estimator_.predict(X_train_transformed)\n",
    "train_rmse = rmse(y_train, train_pred)\n",
    "f'Train RMSE: {train_rmse:.2f}'"
   ]
  },
  {
   "cell_type": "code",
   "execution_count": 336,
   "metadata": {},
   "outputs": [
    {
     "data": {
      "text/plain": [
       "'Test RMSE: 29334.88'"
      ]
     },
     "execution_count": 336,
     "metadata": {},
     "output_type": "execute_result"
    }
   ],
   "source": [
    "# Test RMSE\n",
    "test_pred = grid_search.best_estimator_.predict(preprocessor.transform(X_test))\n",
    "test_rmse = rmse(y_test, test_pred)\n",
    "f'Test RMSE: {test_rmse:.2f}'"
   ]
  },
  {
   "cell_type": "code",
   "execution_count": null,
   "metadata": {},
   "outputs": [],
   "source": []
  },
  {
   "cell_type": "markdown",
   "metadata": {},
   "source": [
    "# Discussion (5 points in total)\n"
   ]
  },
  {
   "cell_type": "markdown",
   "metadata": {},
   "source": [
    "## List the train and test values of each model you built (2 points)"
   ]
  },
  {
   "cell_type": "raw",
   "metadata": {},
   "source": []
  },
  {
   "cell_type": "markdown",
   "metadata": {},
   "source": [
    "## Which model performs the best and why? (0.5 points) \n",
    "## How does it compare to baseline? (0.5 points)\n",
    "\n",
    "Hint: The best model is the one that has the highest TEST score (regardless of any of the training values). If you select your model based on TRAIN values, you will lose points."
   ]
  },
  {
   "cell_type": "raw",
   "metadata": {},
   "source": []
  },
  {
   "cell_type": "markdown",
   "metadata": {},
   "source": [
    "## Is there any evidence of overfitting in the best model, why or why not? If there is, what did you do about it? (1 point)"
   ]
  },
  {
   "cell_type": "raw",
   "metadata": {},
   "source": []
  },
  {
   "cell_type": "markdown",
   "metadata": {},
   "source": [
    "## Is there any overfitting in the other models (besides the best model), why or why not? If there is, what did you do about it? (1 point)"
   ]
  },
  {
   "cell_type": "raw",
   "metadata": {},
   "source": []
  }
 ],
 "metadata": {
  "kernelspec": {
   "display_name": "Python 3 (ipykernel)",
   "language": "python",
   "name": "python3"
  },
  "language_info": {
   "codemirror_mode": {
    "name": "ipython",
    "version": 3
   },
   "file_extension": ".py",
   "mimetype": "text/x-python",
   "name": "python",
   "nbconvert_exporter": "python",
   "pygments_lexer": "ipython3",
   "version": "3.10.4"
  },
  "toc": {
   "base_numbering": 1,
   "nav_menu": {},
   "number_sections": false,
   "sideBar": true,
   "skip_h1_title": false,
   "title_cell": "Table of Contents",
   "title_sidebar": "Contents",
   "toc_cell": false,
   "toc_position": {},
   "toc_section_display": true,
   "toc_window_display": false
  }
 },
 "nbformat": 4,
 "nbformat_minor": 2
}
